{
  "nbformat": 4,
  "nbformat_minor": 0,
  "metadata": {
    "colab": {
      "provenance": [],
      "machine_shape": "hm",
      "gpuType": "T4"
    },
    "kernelspec": {
      "name": "python3",
      "display_name": "Python 3"
    },
    "language_info": {
      "name": "python"
    },
    "accelerator": "GPU"
  },
  "cells": [
    {
      "cell_type": "markdown",
      "source": [
        "# 데이터셋"
      ],
      "metadata": {
        "id": "YDLkqkeUx0V-"
      }
    },
    {
      "cell_type": "code",
      "source": [
        "import pandas as pd\n",
        "\n",
        "# 엑셀 파일 로드\n",
        "file_path = '/content/sample_data/musma+manual+manual_crawling.xlsx'\n",
        "data = pd.read_excel(file_path)\n",
        "\n",
        "# 데이터의 처음 몇 행을 확인\n",
        "data.head()\n",
        "data.shape"
      ],
      "metadata": {
        "colab": {
          "base_uri": "https://localhost:8080/"
        },
        "id": "fJBV9xLzyhFo",
        "outputId": "d825cdca-3b68-456d-c6c2-bd408ebfccc2"
      },
      "execution_count": 12,
      "outputs": [
        {
          "output_type": "execute_result",
          "data": {
            "text/plain": [
              "(272, 4)"
            ]
          },
          "metadata": {},
          "execution_count": 12
        }
      ]
    },
    {
      "cell_type": "markdown",
      "source": [
        "### 데이터 전처리"
      ],
      "metadata": {
        "id": "xyW4fW-8y0vI"
      }
    },
    {
      "cell_type": "code",
      "source": [
        "# 데이터셋을 재구성하기 위해 각 카테고리 별로 데이터를 하나의 리스트에 저장합니다.\n",
        "# 각 뉴스 제목에 해당 카테고리의 레이블을 부여합니다.\n",
        "\n",
        "# 카테고리를 레이블로 매핑\n",
        "categories = data.columns\n",
        "label_map = {category: i for i, category in enumerate(categories)}\n",
        "\n",
        "# (뉴스 제목, 레이블) 형식의 리스트 생성\n",
        "news_data = []\n",
        "for category in categories:\n",
        "    news_titles = data[category].dropna().tolist()  # NaN 값 제거\n",
        "    news_data.extend([(title, label_map[category]) for title in news_titles])\n",
        "\n",
        "# 데이터셋을 DataFrame으로 변환\n",
        "news_df = pd.DataFrame(news_data, columns=['news_title', 'label'])\n",
        "\n",
        "news_df.head(), label_map"
      ],
      "metadata": {
        "colab": {
          "base_uri": "https://localhost:8080/"
        },
        "id": "hIV7deTuy4Qe",
        "outputId": "f8a95bbc-821e-4f01-f8bb-2c1ed9f27b01"
      },
      "execution_count": 13,
      "outputs": [
        {
          "output_type": "execute_result",
          "data": {
            "text/plain": [
              "(                                  news_title  label\n",
              " 0           산업재해 자기규율 예방체계 구축…고용부 법령정비추진반 가동      0\n",
              " 1   교통안전공단, ICT 기반 자동차검사소 스마트 안전관리 시스템 개발 추진      0\n",
              " 2    고용부, '스마트 안전장비 보급·확산사업' 첫 시행…최대 3천만원 지원      0\n",
              " 3              국토안전관리원 \"스마트 안전장비 지원 신청 받습니다\"      0\n",
              " 4  [종합] KCC건설 공사장서 또 근로자 사망…고용부, 중대재해법 조사 착수      0,\n",
              " {'안전/산업재해/중대재해처벌법 ': 0, '스마트건설/ESG 경영': 1, '스마트조선/ESG 경영': 2, 'IT 동향': 3})"
            ]
          },
          "metadata": {},
          "execution_count": 13
        }
      ]
    },
    {
      "cell_type": "code",
      "execution_count": 14,
      "metadata": {
        "colab": {
          "base_uri": "https://localhost:8080/"
        },
        "id": "ASTohmdtxtB_",
        "outputId": "6c46eab4-b108-4035-e746-5d684aea3ba3"
      },
      "outputs": [
        {
          "output_type": "stream",
          "name": "stdout",
          "text": [
            "Requirement already satisfied: transformers in /usr/local/lib/python3.10/dist-packages (4.35.0)\n",
            "Requirement already satisfied: filelock in /usr/local/lib/python3.10/dist-packages (from transformers) (3.13.1)\n",
            "Requirement already satisfied: huggingface-hub<1.0,>=0.16.4 in /usr/local/lib/python3.10/dist-packages (from transformers) (0.17.3)\n",
            "Requirement already satisfied: numpy>=1.17 in /usr/local/lib/python3.10/dist-packages (from transformers) (1.23.5)\n",
            "Requirement already satisfied: packaging>=20.0 in /usr/local/lib/python3.10/dist-packages (from transformers) (23.2)\n",
            "Requirement already satisfied: pyyaml>=5.1 in /usr/local/lib/python3.10/dist-packages (from transformers) (6.0.1)\n",
            "Requirement already satisfied: regex!=2019.12.17 in /usr/local/lib/python3.10/dist-packages (from transformers) (2023.6.3)\n",
            "Requirement already satisfied: requests in /usr/local/lib/python3.10/dist-packages (from transformers) (2.31.0)\n",
            "Requirement already satisfied: tokenizers<0.15,>=0.14 in /usr/local/lib/python3.10/dist-packages (from transformers) (0.14.1)\n",
            "Requirement already satisfied: safetensors>=0.3.1 in /usr/local/lib/python3.10/dist-packages (from transformers) (0.4.0)\n",
            "Requirement already satisfied: tqdm>=4.27 in /usr/local/lib/python3.10/dist-packages (from transformers) (4.66.1)\n",
            "Requirement already satisfied: fsspec in /usr/local/lib/python3.10/dist-packages (from huggingface-hub<1.0,>=0.16.4->transformers) (2023.6.0)\n",
            "Requirement already satisfied: typing-extensions>=3.7.4.3 in /usr/local/lib/python3.10/dist-packages (from huggingface-hub<1.0,>=0.16.4->transformers) (4.5.0)\n",
            "Requirement already satisfied: charset-normalizer<4,>=2 in /usr/local/lib/python3.10/dist-packages (from requests->transformers) (3.3.2)\n",
            "Requirement already satisfied: idna<4,>=2.5 in /usr/local/lib/python3.10/dist-packages (from requests->transformers) (3.4)\n",
            "Requirement already satisfied: urllib3<3,>=1.21.1 in /usr/local/lib/python3.10/dist-packages (from requests->transformers) (2.0.7)\n",
            "Requirement already satisfied: certifi>=2017.4.17 in /usr/local/lib/python3.10/dist-packages (from requests->transformers) (2023.7.22)\n",
            "Requirement already satisfied: torch in /usr/local/lib/python3.10/dist-packages (2.1.0+cu118)\n",
            "Requirement already satisfied: filelock in /usr/local/lib/python3.10/dist-packages (from torch) (3.13.1)\n",
            "Requirement already satisfied: typing-extensions in /usr/local/lib/python3.10/dist-packages (from torch) (4.5.0)\n",
            "Requirement already satisfied: sympy in /usr/local/lib/python3.10/dist-packages (from torch) (1.12)\n",
            "Requirement already satisfied: networkx in /usr/local/lib/python3.10/dist-packages (from torch) (3.2.1)\n",
            "Requirement already satisfied: jinja2 in /usr/local/lib/python3.10/dist-packages (from torch) (3.1.2)\n",
            "Requirement already satisfied: fsspec in /usr/local/lib/python3.10/dist-packages (from torch) (2023.6.0)\n",
            "Requirement already satisfied: triton==2.1.0 in /usr/local/lib/python3.10/dist-packages (from torch) (2.1.0)\n",
            "Requirement already satisfied: MarkupSafe>=2.0 in /usr/local/lib/python3.10/dist-packages (from jinja2->torch) (2.1.3)\n",
            "Requirement already satisfied: mpmath>=0.19 in /usr/local/lib/python3.10/dist-packages (from sympy->torch) (1.3.0)\n"
          ]
        }
      ],
      "source": [
        "!pip install transformers\n",
        "!pip install torch"
      ]
    },
    {
      "cell_type": "code",
      "source": [
        "import torch\n",
        "from transformers import BertTokenizer, BertForSequenceClassification\n",
        "from torch.utils.data import DataLoader, RandomSampler, SequentialSampler, TensorDataset, random_split\n",
        "from sklearn.model_selection import train_test_split\n",
        "from transformers import AdamW, get_linear_schedule_with_warmup\n",
        "from tqdm import tqdm\n",
        "import numpy as np"
      ],
      "metadata": {
        "id": "j9KO1Cs6xzuo"
      },
      "execution_count": 15,
      "outputs": []
    },
    {
      "cell_type": "code",
      "source": [
        "tokenizer = BertTokenizer.from_pretrained('monologg/kobert')\n",
        "model = BertForSequenceClassification.from_pretrained('monologg/kobert', num_labels=4)"
      ],
      "metadata": {
        "colab": {
          "base_uri": "https://localhost:8080/"
        },
        "id": "mo_Am0_dyBJj",
        "outputId": "e980b492-3436-493b-cb04-bae9400c92b1"
      },
      "execution_count": 16,
      "outputs": [
        {
          "output_type": "stream",
          "name": "stderr",
          "text": [
            "Some weights of BertForSequenceClassification were not initialized from the model checkpoint at monologg/kobert and are newly initialized: ['classifier.weight', 'classifier.bias']\n",
            "You should probably TRAIN this model on a down-stream task to be able to use it for predictions and inference.\n"
          ]
        }
      ]
    },
    {
      "cell_type": "code",
      "source": [
        "# 뉴스 제목을 토큰화합니다.\n",
        "input_ids = []\n",
        "attention_masks = []\n",
        "\n",
        "for news in news_df['news_title']:\n",
        "    encoded_dict = tokenizer.encode_plus(\n",
        "                        news,                      # 뉴스 제목을 인코딩\n",
        "                        add_special_tokens = True, # 특수 토큰 추가\n",
        "                        max_length = 64,           # 문장의 최대 토큰 수 설정\n",
        "                        pad_to_max_length = True,  # 짧은 문장은 패딩으로 채움\n",
        "                        return_attention_mask = True,   # 어텐션 마스크 반환\n",
        "                        return_tensors = 'pt',     # 파이토치 텐서로 반환\n",
        "                   )\n",
        "\n",
        "    input_ids.append(encoded_dict['input_ids'])\n",
        "    attention_masks.append(encoded_dict['attention_mask'])\n",
        "\n",
        "# 토큰화된 데이터를 파이토치 텐서로 변환합니다.\n",
        "input_ids = torch.cat(input_ids, dim=0)\n",
        "attention_masks = torch.cat(attention_masks, dim=0)\n",
        "labels = torch.tensor(news_df['label'].values)\n",
        "\n",
        "# 훈련 세트와 검증 세트로 분할합니다.\n",
        "train_inputs, validation_inputs, train_labels, validation_labels = train_test_split(input_ids, labels, random_state=42, test_size=0.2)\n",
        "train_masks, validation_masks, _, _ = train_test_split(attention_masks, labels, random_state=42, test_size=0.2)\n",
        "\n",
        "# 데이터 로더를 생성합니다.\n",
        "train_data = TensorDataset(train_inputs, train_masks, train_labels)\n",
        "train_sampler = RandomSampler(train_data)\n",
        "train_dataloader = DataLoader(train_data, sampler=train_sampler, batch_size=32)\n",
        "\n",
        "validation_data = TensorDataset(validation_inputs, validation_masks, validation_labels)\n",
        "validation_sampler = SequentialSampler(validation_data)\n",
        "validation_dataloader = DataLoader(validation_data, sampler=validation_sampler, batch_size=32)\n"
      ],
      "metadata": {
        "colab": {
          "base_uri": "https://localhost:8080/"
        },
        "id": "r02RaJYZyZQK",
        "outputId": "2fc5be35-8381-495b-e4c1-53a6747253ee"
      },
      "execution_count": 17,
      "outputs": [
        {
          "output_type": "stream",
          "name": "stderr",
          "text": [
            "Truncation was not explicitly activated but `max_length` is provided a specific value, please use `truncation=True` to explicitly truncate examples to max length. Defaulting to 'longest_first' truncation strategy. If you encode pairs of sequences (GLUE-style) with the tokenizer you can select this strategy more precisely by providing a specific strategy to `truncation`.\n",
            "/usr/local/lib/python3.10/dist-packages/transformers/tokenization_utils_base.py:2614: FutureWarning: The `pad_to_max_length` argument is deprecated and will be removed in a future version, use `padding=True` or `padding='longest'` to pad to the longest sequence in the batch, or use `padding='max_length'` to pad to a max length. In this case, you can give a specific length with `max_length` (e.g. `max_length=45`) or leave max_length to None to pad to the maximal input size of the model (e.g. 512 for Bert).\n",
            "  warnings.warn(\n"
          ]
        }
      ]
    },
    {
      "cell_type": "code",
      "source": [
        "# KoBERT 토크나이저와 모델을 로드\n",
        "tokenizer = BertTokenizer.from_pretrained('monologg/kobert')\n",
        "model = BertForSequenceClassification.from_pretrained('monologg/kobert', num_labels=4)\n",
        "\n",
        "# GPU 사용 설정\n",
        "device = torch.device(\"cuda\" if torch.cuda.is_available() else \"cpu\")\n",
        "model.to(device)\n",
        "\n",
        "# 학습 코드\n",
        "epochs = 50\n",
        "loss_values = []\n",
        "\n",
        "# 옵티마이저 설정\n",
        "optimizer = AdamW(model.parameters(),\n",
        "                  lr = 2e-5, # 학습률\n",
        "                  eps = 1e-8 # 0으로 나누는 것을 방지하기 위한 매우 작은 숫자\n",
        "                )\n",
        "\n",
        "# 총 훈련 스텝은 에폭 수와 배치 사이즈에 따라 결정\n",
        "total_steps = len(train_dataloader) * epochs\n",
        "\n",
        "# 학습률 스케줄러 설정\n",
        "scheduler = get_linear_schedule_with_warmup(optimizer,\n",
        "                                            num_warmup_steps = 0, # Warmup 스텝\n",
        "                                            num_training_steps = total_steps)"
      ],
      "metadata": {
        "colab": {
          "base_uri": "https://localhost:8080/"
        },
        "id": "Uu018dzY71Qm",
        "outputId": "4a1e3a03-a224-43c7-89e0-5cc893fff82d"
      },
      "execution_count": 18,
      "outputs": [
        {
          "output_type": "stream",
          "name": "stderr",
          "text": [
            "Some weights of BertForSequenceClassification were not initialized from the model checkpoint at monologg/kobert and are newly initialized: ['classifier.weight', 'classifier.bias']\n",
            "You should probably TRAIN this model on a down-stream task to be able to use it for predictions and inference.\n",
            "/usr/local/lib/python3.10/dist-packages/transformers/optimization.py:411: FutureWarning: This implementation of AdamW is deprecated and will be removed in a future version. Use the PyTorch implementation torch.optim.AdamW instead, or set `no_deprecation_warning=True` to disable this warning\n",
            "  warnings.warn(\n"
          ]
        }
      ]
    },
    {
      "cell_type": "code",
      "source": [
        "from sklearn.metrics import f1_score\n",
        "import matplotlib.pyplot as plt\n",
        "\n",
        "# 손실과 정확도, F1 점수를 기록할 리스트 초기화\n",
        "loss_values = []\n",
        "validation_accuracy = []\n",
        "validation_f1_scores = []"
      ],
      "metadata": {
        "id": "kQqDWH_1-ehl"
      },
      "execution_count": 19,
      "outputs": []
    },
    {
      "cell_type": "code",
      "source": [
        "for epoch_i in range(0, epochs):\n",
        "    # 에폭당 학습\n",
        "    print('======== Epoch {:} / {:} ========'.format(epoch_i + 1, epochs))\n",
        "    total_loss = 0\n",
        "    model.train()\n",
        "\n",
        "    for step, batch in enumerate(train_dataloader):\n",
        "        # 배치를 GPU에 로드\n",
        "        b_input_ids = batch[0].to(device)\n",
        "        b_input_mask = batch[1].to(device)\n",
        "        b_labels = batch[2].to(device)\n",
        "\n",
        "        # 그래디언트 초기화\n",
        "        model.zero_grad()\n",
        "\n",
        "        # 순전파\n",
        "        outputs = model(b_input_ids,\n",
        "                        token_type_ids=None,\n",
        "                        attention_mask=b_input_mask,\n",
        "                        labels=b_labels)\n",
        "\n",
        "        # 손실 얻기\n",
        "        loss = outputs.loss\n",
        "        total_loss += loss.item()\n",
        "\n",
        "        # 역전파\n",
        "        loss.backward()\n",
        "\n",
        "        # 그래디언트 클리핑\n",
        "        torch.nn.utils.clip_grad_norm_(model.parameters(), 1.0)\n",
        "\n",
        "        # 가중치 업데이트\n",
        "        optimizer.step()\n",
        "\n",
        "        # 학습률 감소\n",
        "        scheduler.step()\n",
        "\n",
        "    # 평균 손실 계산\n",
        "    avg_train_loss = total_loss / len(train_dataloader)\n",
        "    loss_values.append(avg_train_loss)\n",
        "    print(\"  Average training loss: {0:.2f}\".format(avg_train_loss))\n",
        "\n",
        "    # 검증\n",
        "    print(\"  Running Validation...\")\n",
        "    model.eval()\n",
        "    # 변수 초기화\n",
        "    total_eval_accuracy = 0\n",
        "    total_eval_f1 = 0\n",
        "    total_eval_examples = 0\n",
        "\n",
        "    for batch in validation_dataloader:\n",
        "        # 배치를 GPU에 로드\n",
        "        b_input_ids = batch[0].to(device)\n",
        "        b_input_mask = batch[1].to(device)\n",
        "        b_labels = batch[2].to(device)\n",
        "\n",
        "        # 그래디언트 계산을 하지 않도록 설정\n",
        "        with torch.no_grad():\n",
        "            # 순전파 진행\n",
        "            outputs = model(b_input_ids,\n",
        "                            token_type_ids=None,\n",
        "                            attention_mask=b_input_mask)\n",
        "\n",
        "        # 로그트와 레이블을 CPU로 이동\n",
        "        logits = outputs.logits\n",
        "        logits = logits.detach().cpu().numpy()\n",
        "        label_ids = b_labels.to('cpu').numpy()\n",
        "\n",
        "        # 출력 로그트의 가장 높은 점수를 받은 클래스를 예측값으로 선택\n",
        "        preds = np.argmax(logits, axis=1)\n",
        "\n",
        "        # 정확도 계산\n",
        "        total_eval_accuracy += (preds == label_ids).mean()\n",
        "\n",
        "        # F1 점수 계산\n",
        "        total_eval_f1 += f1_score(label_ids, preds, average='weighted')\n",
        "\n",
        "        # 처리한 예제 수 업데이트\n",
        "        total_eval_examples += b_input_ids.size(0)\n",
        "\n",
        "    # 평균 정확도 계산 및 기록\n",
        "    avg_val_accuracy = total_eval_accuracy / len(validation_dataloader)\n",
        "    validation_accuracy.append(avg_val_accuracy)\n",
        "    print(\"  Validation Accuracy: {0:.2f}\".format(avg_val_accuracy))\n",
        "\n",
        "    # 평균 F1 점수 계산 및 기록\n",
        "    avg_val_f1 = total_eval_f1 / len(validation_dataloader)\n",
        "    validation_f1_scores.append(avg_val_f1)\n",
        "    print(\"  Validation F1 Score: {0:.2f}\".format(avg_val_f1))\n",
        "\n",
        "# 전체 학습 및 검증 과정에서의 평균 손실 및 정확도 계산\n",
        "avg_loss_over_epochs = sum(loss_values) / len(loss_values)\n",
        "avg_accuracy_over_epochs = sum(validation_accuracy) / len(validation_accuracy)\n",
        "avg_f1_over_epochs = sum(validation_f1_scores) / len(validation_f1_scores)\n",
        "\n",
        "print('================================')\n",
        "print(f\"Final Average Training Loss: {avg_loss_over_epochs:.2f}\")\n",
        "print(f\"Final Average Validation Accuracy: {avg_accuracy_over_epochs:.2f}\")\n",
        "print(f\"Final Average Validation F1 Score: {avg_f1_over_epochs:.2f}\")\n",
        "print(\"Training complete!\")\n",
        "\n",
        "# 모델 저장\n",
        "# model.save_pretrained('/content/drive/MyDrive/Model')\n",
        "# tokenizer.save_pretrained('/content/drive/MyDrive/Model')"
      ],
      "metadata": {
        "colab": {
          "base_uri": "https://localhost:8080/"
        },
        "id": "OosOOw_B2NRy",
        "outputId": "af159ed2-5a90-4b58-a6bd-779cb546c9a8"
      },
      "execution_count": 20,
      "outputs": [
        {
          "output_type": "stream",
          "name": "stdout",
          "text": [
            "======== Epoch 1 / 50 ========\n",
            "  Average training loss: 1.35\n",
            "  Running Validation...\n",
            "  Validation Accuracy: 0.48\n",
            "  Validation F1 Score: 0.37\n",
            "======== Epoch 2 / 50 ========\n",
            "  Average training loss: 1.23\n",
            "  Running Validation...\n",
            "  Validation Accuracy: 0.49\n",
            "  Validation F1 Score: 0.41\n",
            "======== Epoch 3 / 50 ========\n",
            "  Average training loss: 1.15\n",
            "  Running Validation...\n",
            "  Validation Accuracy: 0.51\n",
            "  Validation F1 Score: 0.48\n",
            "======== Epoch 4 / 50 ========\n",
            "  Average training loss: 1.09\n",
            "  Running Validation...\n",
            "  Validation Accuracy: 0.51\n",
            "  Validation F1 Score: 0.48\n",
            "======== Epoch 5 / 50 ========\n",
            "  Average training loss: 1.01\n",
            "  Running Validation...\n",
            "  Validation Accuracy: 0.54\n",
            "  Validation F1 Score: 0.53\n",
            "======== Epoch 6 / 50 ========\n",
            "  Average training loss: 0.93\n",
            "  Running Validation...\n",
            "  Validation Accuracy: 0.54\n",
            "  Validation F1 Score: 0.50\n",
            "======== Epoch 7 / 50 ========\n",
            "  Average training loss: 0.87\n",
            "  Running Validation...\n",
            "  Validation Accuracy: 0.59\n",
            "  Validation F1 Score: 0.59\n",
            "======== Epoch 8 / 50 ========\n",
            "  Average training loss: 0.82\n",
            "  Running Validation...\n",
            "  Validation Accuracy: 0.62\n",
            "  Validation F1 Score: 0.62\n",
            "======== Epoch 9 / 50 ========\n",
            "  Average training loss: 0.74\n",
            "  Running Validation...\n",
            "  Validation Accuracy: 0.57\n",
            "  Validation F1 Score: 0.58\n",
            "======== Epoch 10 / 50 ========\n",
            "  Average training loss: 0.70\n",
            "  Running Validation...\n",
            "  Validation Accuracy: 0.61\n",
            "  Validation F1 Score: 0.58\n",
            "======== Epoch 11 / 50 ========\n",
            "  Average training loss: 0.60\n",
            "  Running Validation...\n",
            "  Validation Accuracy: 0.62\n",
            "  Validation F1 Score: 0.63\n",
            "======== Epoch 12 / 50 ========\n",
            "  Average training loss: 0.59\n",
            "  Running Validation...\n",
            "  Validation Accuracy: 0.67\n",
            "  Validation F1 Score: 0.67\n",
            "======== Epoch 13 / 50 ========\n",
            "  Average training loss: 0.51\n",
            "  Running Validation...\n",
            "  Validation Accuracy: 0.66\n",
            "  Validation F1 Score: 0.66\n",
            "======== Epoch 14 / 50 ========\n",
            "  Average training loss: 0.44\n",
            "  Running Validation...\n",
            "  Validation Accuracy: 0.64\n",
            "  Validation F1 Score: 0.63\n",
            "======== Epoch 15 / 50 ========\n",
            "  Average training loss: 0.37\n",
            "  Running Validation...\n",
            "  Validation Accuracy: 0.63\n",
            "  Validation F1 Score: 0.63\n",
            "======== Epoch 16 / 50 ========\n",
            "  Average training loss: 0.35\n",
            "  Running Validation...\n",
            "  Validation Accuracy: 0.64\n",
            "  Validation F1 Score: 0.64\n",
            "======== Epoch 17 / 50 ========\n",
            "  Average training loss: 0.30\n",
            "  Running Validation...\n",
            "  Validation Accuracy: 0.67\n",
            "  Validation F1 Score: 0.67\n",
            "======== Epoch 18 / 50 ========\n",
            "  Average training loss: 0.28\n",
            "  Running Validation...\n",
            "  Validation Accuracy: 0.64\n",
            "  Validation F1 Score: 0.65\n",
            "======== Epoch 19 / 50 ========\n",
            "  Average training loss: 0.24\n",
            "  Running Validation...\n",
            "  Validation Accuracy: 0.65\n",
            "  Validation F1 Score: 0.66\n",
            "======== Epoch 20 / 50 ========\n",
            "  Average training loss: 0.23\n",
            "  Running Validation...\n",
            "  Validation Accuracy: 0.62\n",
            "  Validation F1 Score: 0.63\n",
            "======== Epoch 21 / 50 ========\n",
            "  Average training loss: 0.21\n",
            "  Running Validation...\n",
            "  Validation Accuracy: 0.63\n",
            "  Validation F1 Score: 0.65\n",
            "======== Epoch 22 / 50 ========\n",
            "  Average training loss: 0.19\n",
            "  Running Validation...\n",
            "  Validation Accuracy: 0.64\n",
            "  Validation F1 Score: 0.65\n",
            "======== Epoch 23 / 50 ========\n",
            "  Average training loss: 0.17\n",
            "  Running Validation...\n",
            "  Validation Accuracy: 0.65\n",
            "  Validation F1 Score: 0.66\n",
            "======== Epoch 24 / 50 ========\n",
            "  Average training loss: 0.14\n",
            "  Running Validation...\n",
            "  Validation Accuracy: 0.61\n",
            "  Validation F1 Score: 0.63\n",
            "======== Epoch 25 / 50 ========\n",
            "  Average training loss: 0.14\n",
            "  Running Validation...\n",
            "  Validation Accuracy: 0.60\n",
            "  Validation F1 Score: 0.61\n",
            "======== Epoch 26 / 50 ========\n",
            "  Average training loss: 0.13\n",
            "  Running Validation...\n",
            "  Validation Accuracy: 0.65\n",
            "  Validation F1 Score: 0.66\n",
            "======== Epoch 27 / 50 ========\n",
            "  Average training loss: 0.14\n",
            "  Running Validation...\n",
            "  Validation Accuracy: 0.62\n",
            "  Validation F1 Score: 0.63\n",
            "======== Epoch 28 / 50 ========\n",
            "  Average training loss: 0.12\n",
            "  Running Validation...\n",
            "  Validation Accuracy: 0.63\n",
            "  Validation F1 Score: 0.65\n",
            "======== Epoch 29 / 50 ========\n",
            "  Average training loss: 0.13\n",
            "  Running Validation...\n",
            "  Validation Accuracy: 0.63\n",
            "  Validation F1 Score: 0.64\n",
            "======== Epoch 30 / 50 ========\n",
            "  Average training loss: 0.09\n",
            "  Running Validation...\n",
            "  Validation Accuracy: 0.67\n",
            "  Validation F1 Score: 0.67\n",
            "======== Epoch 31 / 50 ========\n",
            "  Average training loss: 0.09\n",
            "  Running Validation...\n",
            "  Validation Accuracy: 0.66\n",
            "  Validation F1 Score: 0.67\n",
            "======== Epoch 32 / 50 ========\n",
            "  Average training loss: 0.11\n",
            "  Running Validation...\n",
            "  Validation Accuracy: 0.65\n",
            "  Validation F1 Score: 0.64\n",
            "======== Epoch 33 / 50 ========\n",
            "  Average training loss: 0.08\n",
            "  Running Validation...\n",
            "  Validation Accuracy: 0.65\n",
            "  Validation F1 Score: 0.66\n",
            "======== Epoch 34 / 50 ========\n",
            "  Average training loss: 0.11\n",
            "  Running Validation...\n",
            "  Validation Accuracy: 0.63\n",
            "  Validation F1 Score: 0.63\n",
            "======== Epoch 35 / 50 ========\n",
            "  Average training loss: 0.08\n",
            "  Running Validation...\n",
            "  Validation Accuracy: 0.64\n",
            "  Validation F1 Score: 0.65\n",
            "======== Epoch 36 / 50 ========\n",
            "  Average training loss: 0.07\n",
            "  Running Validation...\n",
            "  Validation Accuracy: 0.62\n",
            "  Validation F1 Score: 0.63\n",
            "======== Epoch 37 / 50 ========\n",
            "  Average training loss: 0.07\n",
            "  Running Validation...\n",
            "  Validation Accuracy: 0.66\n",
            "  Validation F1 Score: 0.66\n",
            "======== Epoch 38 / 50 ========\n",
            "  Average training loss: 0.07\n",
            "  Running Validation...\n",
            "  Validation Accuracy: 0.64\n",
            "  Validation F1 Score: 0.64\n",
            "======== Epoch 39 / 50 ========\n",
            "  Average training loss: 0.06\n",
            "  Running Validation...\n",
            "  Validation Accuracy: 0.64\n",
            "  Validation F1 Score: 0.65\n",
            "======== Epoch 40 / 50 ========\n",
            "  Average training loss: 0.06\n",
            "  Running Validation...\n",
            "  Validation Accuracy: 0.62\n",
            "  Validation F1 Score: 0.63\n",
            "======== Epoch 41 / 50 ========\n",
            "  Average training loss: 0.05\n",
            "  Running Validation...\n",
            "  Validation Accuracy: 0.63\n",
            "  Validation F1 Score: 0.64\n",
            "======== Epoch 42 / 50 ========\n",
            "  Average training loss: 0.07\n",
            "  Running Validation...\n",
            "  Validation Accuracy: 0.64\n",
            "  Validation F1 Score: 0.65\n",
            "======== Epoch 43 / 50 ========\n",
            "  Average training loss: 0.05\n",
            "  Running Validation...\n",
            "  Validation Accuracy: 0.64\n",
            "  Validation F1 Score: 0.65\n",
            "======== Epoch 44 / 50 ========\n",
            "  Average training loss: 0.06\n",
            "  Running Validation...\n",
            "  Validation Accuracy: 0.64\n",
            "  Validation F1 Score: 0.65\n",
            "======== Epoch 45 / 50 ========\n",
            "  Average training loss: 0.05\n",
            "  Running Validation...\n",
            "  Validation Accuracy: 0.62\n",
            "  Validation F1 Score: 0.64\n",
            "======== Epoch 46 / 50 ========\n",
            "  Average training loss: 0.04\n",
            "  Running Validation...\n",
            "  Validation Accuracy: 0.63\n",
            "  Validation F1 Score: 0.65\n",
            "======== Epoch 47 / 50 ========\n",
            "  Average training loss: 0.04\n",
            "  Running Validation...\n",
            "  Validation Accuracy: 0.64\n",
            "  Validation F1 Score: 0.65\n",
            "======== Epoch 48 / 50 ========\n",
            "  Average training loss: 0.05\n",
            "  Running Validation...\n",
            "  Validation Accuracy: 0.64\n",
            "  Validation F1 Score: 0.65\n",
            "======== Epoch 49 / 50 ========\n",
            "  Average training loss: 0.05\n",
            "  Running Validation...\n",
            "  Validation Accuracy: 0.63\n",
            "  Validation F1 Score: 0.64\n",
            "======== Epoch 50 / 50 ========\n",
            "  Average training loss: 0.04\n",
            "  Running Validation...\n",
            "  Validation Accuracy: 0.63\n",
            "  Validation F1 Score: 0.65\n",
            "================================\n",
            "Final Average Training Loss: 0.33\n",
            "Final Average Validation Accuracy: 0.62\n",
            "Final Average Validation F1 Score: 0.62\n",
            "Training complete!\n"
          ]
        }
      ]
    },
    {
      "cell_type": "markdown",
      "source": [
        "### 시각화"
      ],
      "metadata": {
        "id": "oDe9uzlf9pW0"
      }
    },
    {
      "cell_type": "code",
      "source": [
        "plt.figure(figsize=(12, 6))\n",
        "# 학습 손실 그래프\n",
        "plt.subplot(1, 3, 1)\n",
        "plt.plot(loss_values, 'b-o')\n",
        "plt.title(\"Training Loss\")\n",
        "plt.xlabel(\"Epoch\")\n",
        "plt.ylabel(\"Loss\")\n",
        "\n",
        "# 검증 정확도 그래프\n",
        "plt.subplot(1, 3, 2)\n",
        "plt.plot(validation_accuracy, 'r-o')\n",
        "plt.title(\"Validation Accuracy\")\n",
        "plt.xlabel(\"Epoch\")\n",
        "plt.ylabel(\"Accuracy\")\n",
        "\n",
        "# 검증 F1 점수 그래프\n",
        "plt.subplot(1, 3, 3)\n",
        "plt.plot(validation_f1_scores, 'g-o')\n",
        "plt.title(\"Validation F1 Score\")\n",
        "plt.xlabel(\"Epoch\")\n",
        "plt.ylabel(\"F1 Score\")\n",
        "\n",
        "plt.tight_layout()\n",
        "plt.show()\n",
        "\n",
        "print(\"Training complete!\")"
      ],
      "metadata": {
        "colab": {
          "base_uri": "https://localhost:8080/",
          "height": 625
        },
        "id": "rN2aicZX-4ww",
        "outputId": "1e41c806-ec41-4941-8ba9-46fa7ad3a825"
      },
      "execution_count": 21,
      "outputs": [
        {
          "output_type": "display_data",
          "data": {
            "text/plain": [
              "<Figure size 1200x600 with 3 Axes>"
            ],
            "image/png": "[encoded data removed]"
          },
          "metadata": {}
        },
        {
          "output_type": "stream",
          "name": "stdout",
          "text": [
            "Training complete!\n"
          ]
        }
      ]
    }
  ]
}